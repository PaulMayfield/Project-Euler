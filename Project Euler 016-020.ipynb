{
 "cells": [
  {
   "cell_type": "markdown",
   "metadata": {},
   "source": [
    "# Problem 16\n",
    "\n",
    "2^15 = 32768 and the sum of its digits is 3 + 2 + 7 + 6 + 8 = 26.\n",
    "\n",
    "What is the sum of the digits of the number 2^1000?"
   ]
  },
  {
   "cell_type": "code",
   "execution_count": 10,
   "metadata": {
    "scrolled": true
   },
   "outputs": [
    {
     "name": "stdout",
     "output_type": "stream",
     "text": [
      "1366\n"
     ]
    }
   ],
   "source": [
    "print(sum(int(d) for d in str(2**1000)))"
   ]
  },
  {
   "cell_type": "markdown",
   "metadata": {},
   "source": [
    "# Problem 17\n",
    "\n",
    "https://projecteuler.net/problem=17\n",
    "\n",
    "If the numbers 1 to 5 are written out in words: one, two, three, four, five, then there are 3 + 3 + 5 + 4 + 4 = 19 letters used in total.\n",
    "\n",
    "If all the numbers from 1 to 1000 (one thousand) inclusive were written out in words, how many letters would be used?\n",
    "\n",
    "\n",
    "NOTE: Do not count spaces or hyphens. For example, 342 (three hundred and forty-two) contains 23 letters and 115 (one hundred and fifteen) contains 20 letters. The use of \"and\" when writing out numbers is in compliance with British usage."
   ]
  },
  {
   "cell_type": "code",
   "execution_count": 41,
   "metadata": {},
   "outputs": [
    {
     "name": "stdout",
     "output_type": "stream",
     "text": [
      "21124\n"
     ]
    }
   ],
   "source": [
    "myList= [''] * 1001\n",
    "\n",
    "myList[1]='one'\n",
    "myList[2]='two'\n",
    "myList[3]='three'\n",
    "myList[4]='four'\n",
    "myList[5]='five'\n",
    "myList[6]='six'\n",
    "myList[7]='seven'\n",
    "myList[8]='eight'\n",
    "myList[9]='nine'\n",
    "myList[10]='ten'\n",
    "myList[11]='eleven'\n",
    "myList[12]='twelve'\n",
    "myList[13]='thirteen'\n",
    "myList[14]='fourteen'\n",
    "myList[15]='fifteen'\n",
    "myList[16]='sixteen'\n",
    "myList[17]='seventeen'\n",
    "myList[18]='eighteen'\n",
    "myList[19]='nineteen'\n",
    "myList[20]='twenty'\n",
    "myList[30]='thirty'\n",
    "myList[40]='fourty'\n",
    "myList[50]='fifty'\n",
    "myList[60]='sixty'\n",
    "myList[70]='sevety'\n",
    "myList[80]='eighty'\n",
    "myList[90]='ninety'\n",
    "\n",
    "for j in range(20,100, 10):\n",
    "    for i in range(1,10):\n",
    "        myList[i+j] = myList[j] + myList[i]\n",
    "\n",
    "for k in range(1,10):\n",
    "    myList[k*100]=myList[k]+'hundred'\n",
    "\n",
    "for k in range(100,901,100):\n",
    "    for i in range (1,20):\n",
    "        myList[k+i] = myList[k] + 'and' + myList[i]\n",
    "    for j in range(20,100, 10):\n",
    "        for i in range(0,10):\n",
    "            myList[k+i+j] = myList[k] + 'and' + myList[j] + myList[i]\n",
    "        \n",
    "myList[1000]='onethousand'\n",
    "        \n",
    "sumLength = 0\n",
    "for x in myList:\n",
    "    sumLength += len(x)\n",
    "\n",
    "print(sumLength)\n"
   ]
  },
  {
   "cell_type": "markdown",
   "metadata": {},
   "source": [
    "# Problem 18\n",
    "\n",
    "https://projecteuler.net/problem=18\n",
    "\n",
    "By starting at the top of the triangle below and moving to adjacent numbers on the row below, the maximum total from top to bottom is 23.\n",
    "\n",
    "3\n",
    "\n",
    "7 4\n",
    "\n",
    "2 4 6\n",
    "\n",
    "8 5 9 3\n",
    "\n",
    "\n",
    "That is, 3 + 7 + 4 + 9 = 23.\n",
    "\n",
    "Find the maximum total from top to bottom of the triangle below:\n",
    "\n",
    "75\n",
    "\n",
    "95 64\n",
    "\n",
    "17 47 82\n",
    "\n",
    "18 35 87 10\n",
    "\n",
    "20 04 82 47 65\n",
    "\n",
    "19 01 23 75 03 34\n",
    "\n",
    "88 02 77 73 07 63 67\n",
    "\n",
    "99 65 04 28 06 16 70 92\n",
    "\n",
    "41 41 26 56 83 40 80 70 33\n",
    "\n",
    "41 48 72 33 47 32 37 16 94 29\n",
    "\n",
    "53 71 44 65 25 43 91 52 97 51 14\n",
    "\n",
    "70 11 33 28 77 73 17 78 39 68 17 57\n",
    "\n",
    "91 71 52 38 17 14 91 43 58 50 27 29 48\n",
    "\n",
    "63 66 04 68 89 53 67 30 73 16 69 87 40 31\n",
    "\n",
    "04 62 98 27 23 09 70 98 73 93 38 53 60 04 23\n",
    "\n",
    "\n",
    "NOTE: As there are only 16384 routes, it is possible to solve this problem by trying every route. However, Problem 67, is the same challenge with a triangle containing one-hundred rows; it cannot be solved by brute force, and requires a clever method! ;o)"
   ]
  },
  {
   "cell_type": "code",
   "execution_count": 71,
   "metadata": {},
   "outputs": [
    {
     "name": "stdout",
     "output_type": "stream",
     "text": [
      "1074\n"
     ]
    }
   ],
   "source": [
    "triangle = [\n",
    "[75]\n",
    ",[95,64]\n",
    ",[17,47,82]\n",
    ",[18,35,87,10]\n",
    ",[20,4,82,47,65]\n",
    ",[19,1,23,75,3,34]\n",
    ",[88,2,77,73,7,63,67]\n",
    ",[99,65,4,28,6,16,70,92]\n",
    ",[41,41,26,56,83,40,80,70,33]\n",
    ",[41,48,72,33,47,32,37,16,94,29]\n",
    ",[53,71,44,65,25,43,91,52,97,51,14]\n",
    ",[70,11,33,28,77,73,17,78,39,68,17,57]\n",
    ",[91,71,52,38,17,14,91,43,58,50,27,29,48]\n",
    ",[63,66,4,68,89,53,67,30,73,16,69,87,40,31]\n",
    ",[4,62,98,27,23,9,70,98,73,93,38,53,60,4,23]\n",
    "]\n",
    "\n",
    "for i in range(len(triangle)-2,0-1,-1):\n",
    "    for j in range(i+1):\n",
    "        triangle[i][j]=triangle[i][j] + max(triangle[i+1][j],triangle[i+1][j+1])\n",
    "\n",
    "print(triangle[0][0])"
   ]
  },
  {
   "cell_type": "markdown",
   "metadata": {},
   "source": [
    "# Problem 19\n",
    "\n",
    "https://projecteuler.net/problem=19\n",
    "\n",
    "You are given the following information, but you may prefer to do some research for yourself.\n",
    "\n",
    "1 Jan 1900 was a Monday.\n",
    "   \n",
    "Thirty days has September,\n",
    "April, June and November.\n",
    "All the rest have thirty-one,\n",
    "Saving February alone,\n",
    "Which has twenty-eight, rain or shine.\n",
    "And on leap years, twenty-nine.\n",
    "\n",
    "A leap year occurs on any year evenly divisible by 4, but not on a century unless it is divisible by 400.\n",
    "How many Sundays fell on the first of the month during the twentieth century (1 Jan **1901** to 31 Dec 2000)?\n",
    "\n",
    "NOTE THE DATE RANGE TO BE TESTED DOES NOT START 1/1/1900\n"
   ]
  },
  {
   "cell_type": "code",
   "execution_count": 10,
   "metadata": {
    "scrolled": true
   },
   "outputs": [
    {
     "name": "stdout",
     "output_type": "stream",
     "text": [
      "171\n"
     ]
    }
   ],
   "source": [
    "year = 1900\n",
    "month = 1\n",
    "dayOfMonth = 1\n",
    "\n",
    "tmp = 1\n",
    "\n",
    "dayOfMonthList = [[year,month,dayOfMonth]]\n",
    "numSundays = 0\n",
    "\n",
    "# start here and every index %7 == 0 is a Sunday\n",
    "\n",
    "while (year<=2000 and month<=12 and dayOfMonth <=31):\n",
    "    tmp += 1\n",
    "    dayOfMonth += 1\n",
    "    \n",
    "    # Check this new day and flip over to next month based on criteria given\n",
    "    if dayOfMonth>31:\n",
    "        dayOfMonth = 1\n",
    "    elif dayOfMonth == 31 and month in [4,6,9,11]:\n",
    "        dayOfMonth = 1\n",
    "    elif dayOfMonth == 30 and month == 2: # ALWAYS flip february after 29 days\n",
    "        dayOfMonth = 1\n",
    "    elif dayOfMonth == 29 and month == 2:\n",
    "        if year % 4 == 0: # MIGHT be a leap year\n",
    "            if year % 400 == 0: # It is!\n",
    "                dayOfMonth = 29\n",
    "            elif year % 100 == 0: # IT is not!\n",
    "                dayOfMonth = 1    \n",
    "            else: # It is!\n",
    "                dayOfMonth = 29\n",
    "        else:\n",
    "            dayOfMonth = 1\n",
    "    \n",
    "    # do some month and year fixing if the DayOfMonth rolled over to next month\n",
    "    if dayOfMonth == 1:\n",
    "        month += 1\n",
    "        if month == 13: # reset to January of next year\n",
    "            year += 1\n",
    "            month = 1\n",
    "    #print(f'{year},{month},{dayOfMonth}, {tmp % 7}')\n",
    "    dayOfMonthList.append([year,month,dayOfMonth])\n",
    "    \n",
    "for x in range(6,len(dayOfMonthList),7):\n",
    "    \n",
    "    if dayOfMonthList[x][2] == 1 and dayOfMonthList[x][0] >= 1901:\n",
    "        #print(dayOfMonthList[x])\n",
    "        numSundays += 1\n",
    "\n",
    "print(numSundays)\n",
    "    "
   ]
  },
  {
   "cell_type": "markdown",
   "metadata": {},
   "source": [
    "# Problem 20\n",
    "\n",
    "https://projecteuler.net/problem=20\n",
    "\n",
    "n! means n × (n − 1) × ... × 3 × 2 × 1\n",
    "\n",
    "For example, 10! = 10 × 9 × ... × 3 × 2 × 1 = 3628800,\n",
    "and the sum of the digits in the number 10! is 3 + 6 + 2 + 8 + 8 + 0 + 0 = 27.\n",
    "\n",
    "Find the sum of the digits in the number 100!\n"
   ]
  },
  {
   "cell_type": "code",
   "execution_count": 13,
   "metadata": {},
   "outputs": [
    {
     "name": "stdout",
     "output_type": "stream",
     "text": [
      "648\n"
     ]
    }
   ],
   "source": [
    "from math import factorial\n",
    "\n",
    "print(sum(int(d) for d in str(factorial(100))))"
   ]
  }
 ],
 "metadata": {
  "kernelspec": {
   "display_name": "Python 3",
   "language": "python",
   "name": "python3"
  },
  "language_info": {
   "codemirror_mode": {
    "name": "ipython",
    "version": 3
   },
   "file_extension": ".py",
   "mimetype": "text/x-python",
   "name": "python",
   "nbconvert_exporter": "python",
   "pygments_lexer": "ipython3",
   "version": "3.8.3"
  }
 },
 "nbformat": 4,
 "nbformat_minor": 4
}
