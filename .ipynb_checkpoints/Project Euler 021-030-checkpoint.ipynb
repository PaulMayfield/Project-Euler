{
 "cells": [
  {
   "cell_type": "markdown",
   "metadata": {},
   "source": [
    "# Problem 21\n",
    "\n",
    "https://projecteuler.net/problem=21\n",
    "    \n",
    "Let d(n) be defined as the sum of proper divisors of n (numbers less than n which divide evenly into n).\n",
    "If d(a) = b and d(b) = a, **where a ≠ b**, then a and b are an amicable pair and each of a and b are called amicable numbers.\n",
    "\n",
    "For example, the proper divisors of 220 are 1, 2, 4, 5, 10, 11, 20, 22, 44, 55 and 110; therefore d(220) = 284. The proper divisors of 284 are 1, 2, 4, 71 and 142; so d(284) = 220.\n",
    "\n",
    "Evaluate the sum of all the amicable numbers under 10000."
   ]
  },
  {
   "cell_type": "code",
   "execution_count": 32,
   "metadata": {},
   "outputs": [
    {
     "name": "stdout",
     "output_type": "stream",
     "text": [
      "31626\n"
     ]
    }
   ],
   "source": [
    "def ProperDivisors(m):\n",
    "    myDivisors = []\n",
    "    for i in range(1,m): # want to skip the actual value of m for a \"proper\" divisor\n",
    "        if m % i == 0:\n",
    "            myDivisors.append(i)\n",
    "    return myDivisors\n",
    "\n",
    "n = 10000\n",
    "myList = [0] * n\n",
    "\n",
    "for j in range(2,n+1):\n",
    "    candidate = sum(ProperDivisors(j))\n",
    "    if sum(ProperDivisors(candidate)) == j and not candidate == j:  # \n",
    "        myList[j] = j\n",
    "        \n",
    "print(sum(myList))\n"
   ]
  },
  {
   "cell_type": "markdown",
   "metadata": {},
   "source": [
    "# Problem 22\n",
    "\n",
    "https://projecteuler.net/problem=22\n",
    "\n",
    "Using names.txt (right click and 'Save Link/Target As...'), a 46K text file containing over five-thousand first names, begin by sorting it into alphabetical order. Then working out the alphabetical value for each name, multiply this value by its alphabetical position in the list to obtain a name score.\n",
    "\n",
    "For example, when the list is sorted into alphabetical order, COLIN, which is worth 3 + 15 + 12 + 9 + 14 = 53, is the 938th name in the list. So, COLIN would obtain a score of 938 × 53 = 49714.\n",
    "\n",
    "What is the total of all the name scores in the file?"
   ]
  },
  {
   "cell_type": "code",
   "execution_count": 21,
   "metadata": {},
   "outputs": [
    {
     "name": "stdout",
     "output_type": "stream",
     "text": [
      "871198282\n"
     ]
    }
   ],
   "source": [
    "with open('./p022_names.txt', 'r') as file:\n",
    "    names = sorted(file.read().replace('\\\"','').split(\",\"))\n",
    "\n",
    "score = 0\n",
    "    \n",
    "for i in range(len(names)):\n",
    "    nameSum = 0\n",
    "    for j in names[i]:\n",
    "        nameSum+= ord(j) - ord('A') + 1\n",
    "    score += (i+1) * nameSum\n",
    "\n",
    "print(score)\n",
    "          "
   ]
  },
  {
   "cell_type": "markdown",
   "metadata": {},
   "source": [
    "# Problem 23\n",
    "\n",
    "https://projecteuler.net/problem=23\n",
    "    \n",
    "A perfect number is a number for which the sum of its proper divisors is exactly equal to the number. For example, the sum of the proper divisors of 28 would be 1 + 2 + 4 + 7 + 14 = 28, which means that 28 is a perfect number.\n",
    "\n",
    "A number n is called deficient if the sum of its proper divisors is less than n and it is called abundant if this sum exceeds n.\n",
    "\n",
    "As 12 is the smallest abundant number, 1 + 2 + 3 + 4 + 6 = 16, the smallest number that can be written as the sum of two abundant numbers is 24. By mathematical analysis, it can be shown that all integers greater than 28123 can be written as the sum of two abundant numbers. However, this upper limit cannot be reduced any further by analysis even though it is known that the greatest number that cannot be expressed as the sum of two abundant numbers is less than this limit.\n",
    "\n",
    "Find the sum of all the positive integers which cannot be written as the sum of two abundant numbers."
   ]
  },
  {
   "cell_type": "code",
   "execution_count": 63,
   "metadata": {
    "scrolled": true
   },
   "outputs": [
    {
     "name": "stdout",
     "output_type": "stream",
     "text": [
      "3905334\n"
     ]
    }
   ],
   "source": [
    "def SumProperDivisors(m):\n",
    "    myDivisors = 1\n",
    "    for i in range(2,int(m**0.5)+1: # want to skip the actual value of m for a \"proper\" divisor\n",
    "        if m % i == 0:\n",
    "            myDivisors += i\n",
    "    return myDivisors\n",
    "\n",
    "n = 28123\n",
    "AbundantList = []\n",
    "AbundantSumsList = []\n",
    "Answer = 0\n",
    "\n",
    "# List Abundant Numbers\n",
    "for j in range(n+1):\n",
    "    if SumProperDivisors(j) > j:\n",
    "        AbundantList.append(j)\n",
    "\n",
    "# List Sums of Pairs of Abundant Numbers\n",
    "for i in range(len(AbundantList)):\n",
    "    for j in range(i,len(AbundantList)):\n",
    "        AbundantSumsList.append(AbundantList[i]+AbundantList[j])\n",
    "\n",
    "# Sum all the integers not on the Abundant Sums List\n",
    "for i in range(n+1):\n",
    "    if i not in AbundantSumsList:\n",
    "        Answer += i\n",
    "\n",
    "print(Answer)\n"
   ]
  },
  {
   "cell_type": "code",
   "execution_count": 64,
   "metadata": {},
   "outputs": [
    {
     "name": "stdout",
     "output_type": "stream",
     "text": [
      "4179871\n"
     ]
    }
   ],
   "source": [
    "# sets() and better loops from answer thread\n",
    "\n",
    "def proper_divisors(n):\n",
    "    divs = []\n",
    "    for i in range(1, int(n ** 0.5 + 1)):\n",
    "        if n % i == 0:\n",
    "            if n / i == i:\n",
    "                divs.append(i)\n",
    "            else:\n",
    "                divs.append(i)\n",
    "                divs.append(int(n / i))\n",
    "    return sorted(divs)[:-1]\n",
    "\n",
    "\n",
    "def is_abundant(n):\n",
    "    if sum(proper_divisors(n)) > n:\n",
    "        return True\n",
    "    return False\n",
    "\n",
    "\n",
    "integers = set(i for i in range(1, 28123))\n",
    "abundants = set(i for i in range(12, 28123) if is_abundant(i))\n",
    "\n",
    "sum_of_two_abundants = set()\n",
    "for abundant_1 in abundants:\n",
    "    for abundant_2 in abundants:\n",
    "        sums = abundant_1 + abundant_2\n",
    "        if sums > 28123:\n",
    "            break\n",
    "        sum_of_two_abundants.add(sums)\n",
    "\n",
    "\n",
    "print(sum(integers - sum_of_two_abundants))\n"
   ]
  },
  {
   "cell_type": "markdown",
   "metadata": {},
   "source": [
    "# Problem 24\n",
    "\n",
    "https://projecteuler.net/problem=24\n",
    "\n",
    "A permutation is an ordered arrangement of objects. For example, 3124 is one possible permutation of the digits 1, 2, 3 and 4. If all of the permutations are listed numerically or alphabetically, we call it lexicographic order. The lexicographic permutations of 0, 1 and 2 are:\n",
    "\n",
    "012   021   102   120   201   210\n",
    "\n",
    "What is the millionth lexicographic permutation of the digits 0, 1, 2, 3, 4, 5, 6, 7, 8 and 9?\n"
   ]
  },
  {
   "cell_type": "code",
   "execution_count": 81,
   "metadata": {},
   "outputs": [
    {
     "name": "stdout",
     "output_type": "stream",
     "text": [
      "(2, 7, 8, 3, 9, 1, 5, 4, 6, 0)\n"
     ]
    }
   ],
   "source": [
    "import itertools\n",
    "\n",
    "digits = [i for i in range(9+1)]\n",
    "\n",
    "Perms = sorted(list(itertools.permutations(digits)))\n",
    "\n",
    "print(Perms[1000000-1])\n"
   ]
  },
  {
   "cell_type": "markdown",
   "metadata": {},
   "source": [
    "# Problem 25\n",
    "\n",
    "https://projecteuler.net/problem=25\n",
    "\n",
    "The Fibonacci sequence is defined by the recurrence relation:\n",
    "\n",
    "Fn = Fn−1 + Fn−2, where F1 = 1 and F2 = 1.\n",
    "Hence the first 12 terms will be:\n",
    "\n",
    "F1 = 1\n",
    "\n",
    "F2 = 1\n",
    "\n",
    "F3 = 2\n",
    "\n",
    "F4 = 3\n",
    "\n",
    "F5 = 5\n",
    "\n",
    "F6 = 8\n",
    "\n",
    "F7 = 13\n",
    "\n",
    "F8 = 21\n",
    "\n",
    "F9 = 34\n",
    "\n",
    "F10 = 55\n",
    "\n",
    "F11 = 89\n",
    "\n",
    "F12 = 144\n",
    "\n",
    "The 12th term, F12, is the first term to contain three digits.\n",
    "\n",
    "What is the index of the first term in the Fibonacci sequence to contain 1000 digits?"
   ]
  },
  {
   "cell_type": "code",
   "execution_count": 90,
   "metadata": {},
   "outputs": [
    {
     "name": "stdout",
     "output_type": "stream",
     "text": [
      "4782\n"
     ]
    }
   ],
   "source": [
    "fn2 = 1\n",
    "fn1 = 1\n",
    "fn = fn1 + fn2\n",
    "i = 3\n",
    "\n",
    "while len(str(fn))<1000:\n",
    "    fn2 = fn1\n",
    "    fn1 = fn\n",
    "    fn = fn1 + fn2\n",
    "    i += 1\n",
    "    \n",
    "print(i)\n"
   ]
  },
  {
   "cell_type": "markdown",
   "metadata": {},
   "source": [
    "# Problem 26\n",
    "\n",
    "https://projecteuler.net/problem=26\n",
    "    \n",
    "A unit fraction contains 1 in the numerator. The decimal representation of the unit fractions with denominators 2 to 10 are given:\n",
    "\n",
    "1/2\t= \t0.5\n",
    "1/3\t= \t0.(3)\n",
    "1/4\t= \t0.25\n",
    "1/5\t= \t0.2\n",
    "1/6\t= \t0.1(6)\n",
    "1/7\t= \t0.(142857)\n",
    "1/8\t= \t0.125\n",
    "1/9\t= \t0.(1)\n",
    "1/10\t= \t0.1\n",
    "Where 0.1(6) means 0.166666..., and has a 1-digit recurring cycle. It can be seen that 1/7 has a 6-digit recurring cycle.\n",
    "\n",
    "Find the value of d < 1000 for which 1/d contains the longest recurring cycle in its decimal fraction part."
   ]
  },
  {
   "cell_type": "code",
   "execution_count": 98,
   "metadata": {
    "scrolled": true
   },
   "outputs": [
    {
     "data": {
      "text/plain": [
       "0.007518796992481203"
      ]
     },
     "execution_count": 98,
     "metadata": {},
     "output_type": "execute_result"
    }
   ],
   "source": [
    "1 / 133"
   ]
  },
  {
   "cell_type": "code",
   "execution_count": 140,
   "metadata": {},
   "outputs": [
    {
     "ename": "KeyboardInterrupt",
     "evalue": "",
     "output_type": "error",
     "traceback": [
      "\u001b[1;31m---------------------------------------------------------------------------\u001b[0m",
      "\u001b[1;31mKeyboardInterrupt\u001b[0m                         Traceback (most recent call last)",
      "\u001b[1;32m<ipython-input-140-cd977bf32747>\u001b[0m in \u001b[0;36m<module>\u001b[1;34m\u001b[0m\n\u001b[0;32m     26\u001b[0m     \u001b[0mi\u001b[0m \u001b[1;33m=\u001b[0m \u001b[1;36m1\u001b[0m\u001b[1;33m\u001b[0m\u001b[1;33m\u001b[0m\u001b[0m\n\u001b[0;32m     27\u001b[0m     \u001b[1;32mwhile\u001b[0m \u001b[1;32mnot\u001b[0m \u001b[0mcandidatepattern\u001b[0m\u001b[1;33m[\u001b[0m\u001b[1;36m0\u001b[0m\u001b[1;33m:\u001b[0m\u001b[0mi\u001b[0m\u001b[1;33m]\u001b[0m \u001b[1;33m==\u001b[0m \u001b[0mcandidatepattern\u001b[0m\u001b[1;33m[\u001b[0m\u001b[0mi\u001b[0m\u001b[1;33m+\u001b[0m\u001b[1;36m1\u001b[0m\u001b[1;33m:\u001b[0m\u001b[0mi\u001b[0m\u001b[1;33m+\u001b[0m\u001b[1;36m1\u001b[0m\u001b[1;33m+\u001b[0m\u001b[0mi\u001b[0m\u001b[1;33m]\u001b[0m\u001b[1;33m:\u001b[0m\u001b[1;33m\u001b[0m\u001b[1;33m\u001b[0m\u001b[0m\n\u001b[1;32m---> 28\u001b[1;33m         \u001b[0mi\u001b[0m \u001b[1;33m+=\u001b[0m \u001b[1;36m1\u001b[0m\u001b[1;33m\u001b[0m\u001b[1;33m\u001b[0m\u001b[0m\n\u001b[0m\u001b[0;32m     29\u001b[0m \u001b[1;33m\u001b[0m\u001b[0m\n\u001b[0;32m     30\u001b[0m     \u001b[1;32mif\u001b[0m \u001b[0mi\u001b[0m \u001b[1;33m>\u001b[0m \u001b[0manswerlength\u001b[0m\u001b[1;33m:\u001b[0m\u001b[1;33m\u001b[0m\u001b[1;33m\u001b[0m\u001b[0m\n",
      "\u001b[1;31mKeyboardInterrupt\u001b[0m: "
     ]
    }
   ],
   "source": [
    "def stringIntegerReciprocal(divisor,n): # NUmber to divide into 1, , number of digits after the initial 0.0..0##\n",
    "    \n",
    "    # First non-zero digit\n",
    "    quotient = ''\n",
    "    digit = int(10**(len(str(divisor))) / divisor)\n",
    "    remainder = 10**(len(str(divisor))) - divisor * digit\n",
    "    quotient += str(digit)\n",
    "    \n",
    "    # Next however-many digits                 \n",
    "    for i in range(n-1):\n",
    "        digit = int(remainder * 10 / divisor)\n",
    "        remainder = remainder * 10 - (divisor * digit)\n",
    "        quotient += str(digit)             \n",
    "    \n",
    "    return quotient\n",
    "\n",
    "answerlength = 0\n",
    "answernumber = 0\n",
    "answerpattern = 0\n",
    "\n",
    "for d in range(11,200):\n",
    "    \n",
    "    candidatepattern = stringIntegerReciprocal(d,20) # MAY NEED MORE DIGITS\n",
    "\n",
    "    # FIND A REPEATING PATTERN IN A STRING\n",
    "    i = 1\n",
    "    while not candidatepattern[0:i] == candidatepattern[i+1:i+1+i]:\n",
    "        i += 1\n",
    "\n",
    "    if i > answerlength:\n",
    "        answerlength = i\n",
    "        answernumber = d\n",
    "        answerpattern = candidatepattern[0:i]\n",
    "\n",
    "print(i)\n",
    "print(d)\n",
    "print(answerpattern)\n",
    "\n"
   ]
  }
 ],
 "metadata": {
  "kernelspec": {
   "display_name": "Python 3",
   "language": "python",
   "name": "python3"
  },
  "language_info": {
   "codemirror_mode": {
    "name": "ipython",
    "version": 3
   },
   "file_extension": ".py",
   "mimetype": "text/x-python",
   "name": "python",
   "nbconvert_exporter": "python",
   "pygments_lexer": "ipython3",
   "version": "3.8.3"
  }
 },
 "nbformat": 4,
 "nbformat_minor": 4
}
